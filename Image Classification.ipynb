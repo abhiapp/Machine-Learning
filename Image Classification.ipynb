{
 "cells": [
  {
   "cell_type": "markdown",
   "metadata": {},
   "source": [
    "## Image Classification\n",
    "\n",
    "An image is considered as an __unstructured data__.\n",
    "\n",
    "Even though every digital image is stored in structured formats such as jpg, png, gif, etc., it doesn't contain relevant information, which is of interest to human or computer system. It can be converted into a __structured__ form through image analysis."
   ]
  },
  {
   "cell_type": "code",
   "execution_count": null,
   "metadata": {},
   "outputs": [],
   "source": [
    "from IPython.display import Image\n",
    "from IPython.core.display import HTML \n",
    "Image(url= \"https://docs-cdn.fresco.me/system/attachments/files/000/187/952/large/4798769d57f19875f09da48d3e3498f2e1aaf4a2/Glm_Logistic.jpeg\")"
   ]
  }
 ],
 "metadata": {
  "kernelspec": {
   "display_name": "Python 2",
   "language": "python",
   "name": "python2"
  },
  "language_info": {
   "codemirror_mode": {
    "name": "ipython",
    "version": 2
   },
   "file_extension": ".py",
   "mimetype": "text/x-python",
   "name": "python",
   "nbconvert_exporter": "python",
   "pygments_lexer": "ipython2",
   "version": "2.7.15"
  }
 },
 "nbformat": 4,
 "nbformat_minor": 2
}
